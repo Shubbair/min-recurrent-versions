{
 "cells": [
  {
   "cell_type": "code",
   "execution_count": 2,
   "id": "764296c2",
   "metadata": {},
   "outputs": [],
   "source": [
    "import torch\n",
    "import torch.nn as nn\n",
    "import torch.nn.functional as F\n",
    "\n",
    "from gru_v import *\n",
    "from test_utils import *"
   ]
  },
  {
   "cell_type": "markdown",
   "id": "5e7a11da",
   "metadata": {},
   "source": [
    "# GRU comparision"
   ]
  },
  {
   "cell_type": "markdown",
   "id": "ff62505b",
   "metadata": {},
   "source": [
    "## Vanilla GRU\n",
    "<center>\n",
    "<img src=\"assets/GRUV.png\" width=\"80%\">\n",
    "</center>"
   ]
  },
  {
   "cell_type": "code",
   "execution_count": 5,
   "id": "c4adf0b3",
   "metadata": {},
   "outputs": [
    {
     "name": "stdout",
     "output_type": "stream",
     "text": [
      "B=64 , T=200 , input dimension=128, hidden dimemnsion=256\n",
      "[GRU] Time taken: 0.046936 seconds\n",
      "[recoded GRU_Cell] Time taken: 0.051591 seconds\n",
      "input :  torch.Size([64, 200, 128])\n",
      "output :  torch.Size([64, 200, 256])\n",
      "Shapes matched.\n"
     ]
    }
   ],
   "source": [
    "# compare nn.GRU , hand coded GRU -> Cells\n",
    "gru_tests(nn.GRU,GRU_Cell)"
   ]
  },
  {
   "cell_type": "markdown",
   "id": "a8004fb2",
   "metadata": {},
   "source": [
    "## minGRU: A Minimal GRU\n",
    "\n",
    "<center>\n",
    "<img src=\"assets/GRUV2.png\" width=\"80%\" />\n",
    "</center>"
   ]
  },
  {
   "cell_type": "code",
   "execution_count": 6,
   "id": "b3aa76e1",
   "metadata": {},
   "outputs": [
    {
     "name": "stdout",
     "output_type": "stream",
     "text": [
      "B=64 , T=200 , input dimension=128, hidden dimemnsion=256\n",
      "[GRU] Time taken: 0.048377 seconds\n",
      "[recoded minGRU_Cell] Time taken: 0.021233 seconds\n",
      "input :  torch.Size([64, 200, 128])\n",
      "output :  torch.Size([64, 200, 256])\n",
      "Shapes matched.\n"
     ]
    }
   ],
   "source": [
    "# compare nn.GRU , MinGRU -> Cells\n",
    "gru_tests(nn.GRU,minGRU_Cell)"
   ]
  },
  {
   "cell_type": "markdown",
   "id": "00879e33",
   "metadata": {},
   "source": [
    "## Log-space minGRU"
   ]
  },
  {
   "cell_type": "code",
   "execution_count": 7,
   "id": "83df6480",
   "metadata": {},
   "outputs": [],
   "source": [
    "# minGRU_log\n",
    "\n",
    "def g(x):\n",
    "    return torch.where(x >= 0, x + 0.5, x.sigmoid())\n",
    "\n",
    "class log_minGRU_Cell(nn.Module):\n",
    "    def __init__(self,input_dim,hidden_dim):\n",
    "        super(log_minGRU_Cell, self).__init__()\n",
    "        \n",
    "        self.linear_z = nn.Linear(input_dim,hidden_dim)\n",
    "        self.linear_h = nn.Linear(input_dim,hidden_dim)\n",
    "        \n",
    "    def forward(self,x_t,h_prev):\n",
    "        \n",
    "        z_t = torch.sigmoid(self.linear_z(x_t))\n",
    "        h_tilda_t = g(self.linear_h(x_t))\n",
    "        h_t = (1 - z_t) * h_prev + z_t * h_tilda_t\n",
    "        return h_t"
   ]
  },
  {
   "cell_type": "code",
   "execution_count": 17,
   "id": "cc554f57",
   "metadata": {},
   "outputs": [
    {
     "name": "stdout",
     "output_type": "stream",
     "text": [
      "B=64 , T=200 , input dimension=128, hidden dimemnsion=256\n",
      "[GRU] Time taken: 0.045435 seconds\n",
      "[recoded log_minGRU_Cell] Time taken: 0.031606 seconds\n",
      "input :  torch.Size([64, 200, 128])\n",
      "output :  torch.Size([64, 200, 256])\n",
      "Shapes matched.\n"
     ]
    }
   ],
   "source": [
    "# compare nn.GRU , log-space minGRU -> Cells\n",
    "gru_tests(nn.GRU,log_minGRU_Cell)"
   ]
  },
  {
   "cell_type": "markdown",
   "id": "716d8aad",
   "metadata": {},
   "source": [
    "## Prallel minGRU"
   ]
  },
  {
   "cell_type": "code",
   "execution_count": 12,
   "id": "7f2a1ee2",
   "metadata": {},
   "outputs": [],
   "source": [
    "# parallel \n",
    "def log_g(x):\n",
    "    return torch.where(x >= 0,(x + 0.5).log(),-F.softplus(-x))\n",
    "\n",
    "\n",
    "def parallel_scan_log(log_coeffs, log_values):\n",
    "    # log_coeffs: (batch_size, seq_len, input_size)\n",
    "    # log_values: (batch_size, seq_len + 1, input_size)\n",
    "    a_star = F.pad(torch.cumsum(log_coeffs, dim=1), (0, 0, 1, 0))\n",
    "    log_h0_plus_b_star = torch.logcumsumexp(\n",
    "    log_values - a_star, dim=1)\n",
    "    log_h = a_star + log_h0_plus_b_star\n",
    "    return torch.exp(log_h)[:, 1:]\n",
    "\n",
    "# minGRU_log parallel\n",
    "class parallel_log_minGRU(nn.Module):\n",
    "    def __init__(self,input_dim,hidden_dim):\n",
    "        super(parallel_log_minGRU, self).__init__()\n",
    "        \n",
    "        self.linear_z = nn.Linear(input_dim,hidden_dim)\n",
    "        self.linear_h = nn.Linear(input_dim,hidden_dim)    \n",
    "    \n",
    "    def forward(self,x,h_prev):\n",
    "        \n",
    "        log_z = -F.softplus(-self.linear_z(x))\n",
    "        log_coeffs = -F.softplus(self.linear_z(x))\n",
    "        log_h = log_g(h_prev).unsqueeze(1)\n",
    "        log_h_tilda = log_g(self.linear_h(x))\n",
    "        h_t = parallel_scan_log(log_coeffs,torch.cat([log_h,log_z + log_h_tilda],dim=1))\n",
    "        return h_t"
   ]
  },
  {
   "cell_type": "code",
   "execution_count": 19,
   "id": "8770716c",
   "metadata": {},
   "outputs": [
    {
     "data": {
      "text/plain": [
       "parallel_log_minGRU(\n",
       "  (linear_z): Linear(in_features=128, out_features=256, bias=True)\n",
       "  (linear_h): Linear(in_features=128, out_features=256, bias=True)\n",
       ")"
      ]
     },
     "execution_count": 19,
     "metadata": {},
     "output_type": "execute_result"
    }
   ],
   "source": [
    "B, T, input_dim, hidden_dim = 64,200, 128,256\n",
    "\n",
    "# Random sequence input (batch_size, seq_len, input_dim)\n",
    "x = torch.randn(B,T, input_dim)\n",
    "# Initial hidden state (batch_size, hidden_dim)\n",
    "h0 = torch.randn(B, hidden_dim)\n",
    "\n",
    "parallel_minGRU = parallel_log_minGRU(input_dim,hidden_dim);parallel_minGRU"
   ]
  },
  {
   "cell_type": "code",
   "execution_count": 30,
   "id": "f9413de6",
   "metadata": {},
   "outputs": [
    {
     "data": {
      "text/plain": [
       "GRUCell(128, 256)"
      ]
     },
     "execution_count": 30,
     "metadata": {},
     "output_type": "execute_result"
    }
   ],
   "source": [
    "v_gru = nn.GRUCell(input_dim,hidden_dim); v_gru"
   ]
  },
  {
   "cell_type": "code",
   "execution_count": 21,
   "id": "84feeb70",
   "metadata": {},
   "outputs": [
    {
     "data": {
      "text/plain": [
       "torch.Size([64, 200, 256])"
      ]
     },
     "execution_count": 21,
     "metadata": {},
     "output_type": "execute_result"
    }
   ],
   "source": [
    "parallel_minGRU(x,h0).shape"
   ]
  },
  {
   "cell_type": "code",
   "execution_count": 48,
   "id": "527ac1f9",
   "metadata": {},
   "outputs": [],
   "source": [
    "h = h0\n",
    "outputs = []\n",
    "for t in range(T):\n",
    "    h = v_gru(x[:, t, :], h)\n",
    "    outputs.append(h.unsqueeze(1))\n",
    "out = torch.cat(outputs, dim=1)\n"
   ]
  }
 ],
 "metadata": {
  "kernelspec": {
   "display_name": "Python 3",
   "language": "python",
   "name": "python3"
  },
  "language_info": {
   "codemirror_mode": {
    "name": "ipython",
    "version": 3
   },
   "file_extension": ".py",
   "mimetype": "text/x-python",
   "name": "python",
   "nbconvert_exporter": "python",
   "pygments_lexer": "ipython3",
   "version": "3.11.9"
  }
 },
 "nbformat": 4,
 "nbformat_minor": 5
}

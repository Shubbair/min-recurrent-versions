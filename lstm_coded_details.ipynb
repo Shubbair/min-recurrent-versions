{
 "cells": [
  {
   "cell_type": "code",
   "execution_count": 1,
   "id": "764296c2",
   "metadata": {},
   "outputs": [],
   "source": [
    "import torch\n",
    "import torch.nn as nn\n",
    "import torch.nn.functional as F\n",
    "\n",
    "from lstm_v import *\n",
    "from test_utils import *"
   ]
  },
  {
   "cell_type": "markdown",
   "id": "5e7a11da",
   "metadata": {},
   "source": [
    "# LSTM comparision"
   ]
  },
  {
   "cell_type": "markdown",
   "id": "ff62505b",
   "metadata": {},
   "source": [
    "## Vanilla LSTM\n",
    "<center>\n",
    "<img src=\"assets/LSTMV.png\" width=\"80%\">\n",
    "</center>"
   ]
  },
  {
   "cell_type": "code",
   "execution_count": 2,
   "id": "c4adf0b3",
   "metadata": {},
   "outputs": [
    {
     "name": "stdout",
     "output_type": "stream",
     "text": [
      "B=64 , T=200 , input dimension=128, hidden dimemnsion=256\n",
      "[LSTM] Time taken: 0.171681 seconds\n",
      "[recoded LSTM_Cell] Time taken: 0.096300 seconds\n",
      "input :  torch.Size([64, 200, 128])\n",
      "output :  torch.Size([64, 200, 256])\n",
      "Shapes matched.\n"
     ]
    }
   ],
   "source": [
    "# compare nn.LSTM , hand coded LSTM -> Cells\n",
    "lstm_tests(nn.LSTM,LSTM_Cell)"
   ]
  },
  {
   "cell_type": "markdown",
   "id": "a8004fb2",
   "metadata": {},
   "source": [
    "## minLSTM: A Minimal LSTM\n",
    "\n",
    "<center>\n",
    "<img src=\"assets/LSTMv2.png\" width=\"80%\" />\n",
    "</center>"
   ]
  },
  {
   "cell_type": "code",
   "execution_count": 3,
   "id": "b3aa76e1",
   "metadata": {},
   "outputs": [
    {
     "name": "stdout",
     "output_type": "stream",
     "text": [
      "B=64 , T=200 , input dimension=128, hidden dimemnsion=256\n",
      "[LSTM] Time taken: 0.084651 seconds\n",
      "[recoded minLSTM_Cell] Time taken: 0.051105 seconds\n",
      "input :  torch.Size([64, 200, 128])\n",
      "output :  torch.Size([64, 200, 256])\n",
      "Shapes matched.\n"
     ]
    }
   ],
   "source": [
    "# compare nn.LSTM , MinLSTM -> Cells\n",
    "lstm_tests(nn.LSTM,minLSTM_Cell)"
   ]
  },
  {
   "cell_type": "markdown",
   "id": "00879e33",
   "metadata": {},
   "source": [
    "## Log-space minGRU"
   ]
  },
  {
   "cell_type": "code",
   "execution_count": 4,
   "id": "cc554f57",
   "metadata": {},
   "outputs": [
    {
     "name": "stdout",
     "output_type": "stream",
     "text": [
      "B=64 , T=200 , input dimension=128, hidden dimemnsion=256\n",
      "[LSTM] Time taken: 0.103004 seconds\n",
      "[recoded log_minLSTM_Cell] Time taken: 0.078236 seconds\n",
      "input :  torch.Size([64, 200, 128])\n",
      "output :  torch.Size([64, 200, 256])\n",
      "Shapes matched.\n"
     ]
    }
   ],
   "source": [
    "# compare nn.LSTM , log-space minLSTM -> Cells\n",
    "lstm_tests(nn.LSTM,log_minLSTM_Cell)"
   ]
  },
  {
   "cell_type": "markdown",
   "id": "716d8aad",
   "metadata": {},
   "source": [
    "## Prallel minLSTM"
   ]
  },
  {
   "cell_type": "code",
   "execution_count": 12,
   "id": "8770716c",
   "metadata": {},
   "outputs": [
    {
     "data": {
      "text/plain": [
       "parallel_log_minLSTM(\n",
       "  (linear_f): Linear(in_features=128, out_features=256, bias=True)\n",
       "  (linear_i): Linear(in_features=128, out_features=256, bias=True)\n",
       "  (linear_h): Linear(in_features=128, out_features=256, bias=True)\n",
       ")"
      ]
     },
     "execution_count": 12,
     "metadata": {},
     "output_type": "execute_result"
    }
   ],
   "source": [
    "B, T, input_dim, hidden_dim = 64,200, 128,256\n",
    "\n",
    "# Random sequence input (batch_size, seq_len, input_dim)\n",
    "x = torch.randn(B,T, input_dim)\n",
    "# Initial hidden state (batch_size, hidden_dim)\n",
    "h0 = torch.randn(B, hidden_dim)\n",
    "\n",
    "parallel_minLSTM = parallel_log_minLSTM(input_dim,hidden_dim); parallel_minLSTM"
   ]
  },
  {
   "cell_type": "code",
   "execution_count": 13,
   "id": "047e430f",
   "metadata": {},
   "outputs": [
    {
     "data": {
      "text/plain": [
       "torch.Size([64, 200, 256])"
      ]
     },
     "execution_count": 13,
     "metadata": {},
     "output_type": "execute_result"
    }
   ],
   "source": [
    "parallel_minLSTM(x,h0).shape"
   ]
  },
  {
   "cell_type": "code",
   "execution_count": 14,
   "id": "f9413de6",
   "metadata": {},
   "outputs": [
    {
     "data": {
      "text/plain": [
       "LSTMCell(128, 256)"
      ]
     },
     "execution_count": 14,
     "metadata": {},
     "output_type": "execute_result"
    }
   ],
   "source": [
    "v_lstm = nn.LSTMCell(input_dim,hidden_dim); v_lstm"
   ]
  },
  {
   "cell_type": "code",
   "execution_count": 16,
   "id": "527ac1f9",
   "metadata": {},
   "outputs": [],
   "source": [
    "h = h0\n",
    "c0 = torch.randn(B, hidden_dim)\n",
    "outputs = []\n",
    "for t in range(T):\n",
    "    h,c = v_lstm(x[:, t, :], (h,c0))\n",
    "    outputs.append(h.unsqueeze(1))\n",
    "out = torch.cat(outputs, dim=1)\n"
   ]
  },
  {
   "cell_type": "code",
   "execution_count": 17,
   "id": "db98e95f",
   "metadata": {},
   "outputs": [
    {
     "data": {
      "text/plain": [
       "True"
      ]
     },
     "execution_count": 17,
     "metadata": {},
     "output_type": "execute_result"
    }
   ],
   "source": [
    "out.shape == parallel_minLSTM(x,h0).shape"
   ]
  }
 ],
 "metadata": {
  "kernelspec": {
   "display_name": "Python 3",
   "language": "python",
   "name": "python3"
  },
  "language_info": {
   "codemirror_mode": {
    "name": "ipython",
    "version": 3
   },
   "file_extension": ".py",
   "mimetype": "text/x-python",
   "name": "python",
   "nbconvert_exporter": "python",
   "pygments_lexer": "ipython3",
   "version": "3.11.9"
  }
 },
 "nbformat": 4,
 "nbformat_minor": 5
}
